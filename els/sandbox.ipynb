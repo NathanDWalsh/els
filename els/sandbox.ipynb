{
 "cells": [
  {
   "cell_type": "code",
   "execution_count": 53,
   "metadata": {},
   "outputs": [
    {
     "name": "stdout",
     "output_type": "stream",
     "text": [
      "[{'orig_filename': 'test_folder/test - Copy.txt', 'filename': 'test_folder/test - Copy.txt', 'date_time': (2024, 9, 4, 13, 28, 50), 'compress_type': 0, '_compresslevel': None, 'comment': b'', 'extra': b'', 'create_system': 0, 'create_version': 20, 'extract_version': 20, 'reserved': 0, 'flag_bits': 0, 'volume': 0, 'internal_attr': 1, 'external_attr': 32, 'header_offset': 51, 'CRC': 3957769958, 'compress_size': 13, 'file_size': 13, '_raw_time': 27545, 'name': 'test_folder/test - Copy.txt', 'size': 13, 'type': 'file'}]\n"
     ]
    }
   ],
   "source": [
    "import fsspec\n",
    "# from upath import UPath\n",
    "\n",
    "fs = fsspec.filesystem(\"zip\",fo=\"test.zip\")\n",
    "# print(fs.url)\n",
    "print(fs.ls(\"test_folder\"))\n",
    "\n",
    "# with fs.open(\".\", \"r\") as f:\n",
    "#     print(f.ls())"
   ]
  },
  {
   "cell_type": "code",
   "execution_count": 57,
   "metadata": {},
   "outputs": [
    {
     "ename": "NotADirectoryError",
     "evalue": "[WinError 267] The directory name is invalid: 'test.zip'",
     "output_type": "error",
     "traceback": [
      "\u001b[1;31m---------------------------------------------------------------------------\u001b[0m",
      "\u001b[1;31mNotADirectoryError\u001b[0m                        Traceback (most recent call last)",
      "Cell \u001b[1;32mIn[57], line 8\u001b[0m\n\u001b[0;32m      3\u001b[0m p \u001b[38;5;241m=\u001b[39m UPath(\u001b[38;5;124m\"\u001b[39m\u001b[38;5;124mtest.zip\u001b[39m\u001b[38;5;124m\"\u001b[39m)\n\u001b[0;32m      5\u001b[0m \u001b[38;5;66;03m# p.exists()\u001b[39;00m\n\u001b[0;32m      6\u001b[0m \n\u001b[0;32m      7\u001b[0m \u001b[38;5;66;03m# List the contents of the directory\u001b[39;00m\n\u001b[1;32m----> 8\u001b[0m contents \u001b[38;5;241m=\u001b[39m \u001b[38;5;28;43mlist\u001b[39;49m\u001b[43m(\u001b[49m\u001b[43mp\u001b[49m\u001b[38;5;241;43m.\u001b[39;49m\u001b[43miterdir\u001b[49m\u001b[43m(\u001b[49m\u001b[43m)\u001b[49m\u001b[43m)\u001b[49m\n\u001b[0;32m     10\u001b[0m \u001b[38;5;66;03m# Print the contents\u001b[39;00m\n\u001b[0;32m     11\u001b[0m \u001b[38;5;28;01mfor\u001b[39;00m item \u001b[38;5;129;01min\u001b[39;00m contents:\n",
      "File \u001b[1;32mc:\\Python311\\Lib\\pathlib.py:931\u001b[0m, in \u001b[0;36mPath.iterdir\u001b[1;34m(self)\u001b[0m\n\u001b[0;32m    927\u001b[0m \u001b[38;5;28;01mdef\u001b[39;00m \u001b[38;5;21miterdir\u001b[39m(\u001b[38;5;28mself\u001b[39m):\n\u001b[0;32m    928\u001b[0m \u001b[38;5;250m    \u001b[39m\u001b[38;5;124;03m\"\"\"Iterate over the files in this directory.  Does not yield any\u001b[39;00m\n\u001b[0;32m    929\u001b[0m \u001b[38;5;124;03m    result for the special paths '.' and '..'.\u001b[39;00m\n\u001b[0;32m    930\u001b[0m \u001b[38;5;124;03m    \"\"\"\u001b[39;00m\n\u001b[1;32m--> 931\u001b[0m     \u001b[38;5;28;01mfor\u001b[39;00m name \u001b[38;5;129;01min\u001b[39;00m os\u001b[38;5;241m.\u001b[39mlistdir(\u001b[38;5;28mself\u001b[39m):\n\u001b[0;32m    932\u001b[0m         \u001b[38;5;28;01myield\u001b[39;00m \u001b[38;5;28mself\u001b[39m\u001b[38;5;241m.\u001b[39m_make_child_relpath(name)\n",
      "\u001b[1;31mNotADirectoryError\u001b[0m: [WinError 267] The directory name is invalid: 'test.zip'"
     ]
    }
   ],
   "source": [
    "from upath import UPath\n",
    "\n",
    "p = UPath(\"test.zip\")\n",
    "\n",
    "# p.exists()\n",
    "\n",
    "# List the contents of the directory\n",
    "contents = list(p.iterdir())\n",
    "\n",
    "# Print the contents\n",
    "for item in contents:\n",
    "    print(item)"
   ]
  },
  {
   "cell_type": "code",
   "execution_count": 38,
   "metadata": {},
   "outputs": [
    {
     "name": "stdout",
     "output_type": "stream",
     "text": [
      "build\n",
      "cli.py\n",
      "config.py\n",
      "eel.egg-info\n",
      "execute.py\n",
      "flow.py\n",
      "path.py\n",
      "pathprops.py\n",
      "sandbox.ipynb\n",
      "test.txt\n",
      "test.zip\n",
      "__init__.py\n",
      "__pycache__\n"
     ]
    }
   ],
   "source": [
    "from pathlib import Path\n",
    "\n",
    "p = Path()\n",
    "\n",
    "# List the contents of the directory\n",
    "contents = list(p.iterdir())\n",
    "\n",
    "# Print the contents\n",
    "for item in contents:\n",
    "    print(item)"
   ]
  }
 ],
 "metadata": {
  "kernelspec": {
   "display_name": "Python 3",
   "language": "python",
   "name": "python3"
  },
  "language_info": {
   "codemirror_mode": {
    "name": "ipython",
    "version": 3
   },
   "file_extension": ".py",
   "mimetype": "text/x-python",
   "name": "python",
   "nbconvert_exporter": "python",
   "pygments_lexer": "ipython3",
   "version": "3.11.4"
  }
 },
 "nbformat": 4,
 "nbformat_minor": 2
}
